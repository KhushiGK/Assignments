{
  "nbformat": 4,
  "nbformat_minor": 0,
  "metadata": {
    "colab": {
      "name": "Assigment-2.ipynb",
      "provenance": [],
      "authorship_tag": "ABX9TyODw+FUviPWYIle57PMo0G1",
      "include_colab_link": true
    },
    "kernelspec": {
      "name": "python3",
      "display_name": "Python 3"
    },
    "language_info": {
      "name": "python"
    }
  },
  "cells": [
    {
      "cell_type": "markdown",
      "metadata": {
        "id": "view-in-github",
        "colab_type": "text"
      },
      "source": [
        "<a href=\"https://colab.research.google.com/github/KhushiGK/Assignment-2/blob/main/Assigment_2.ipynb\" target=\"_parent\"><img src=\"https://colab.research.google.com/assets/colab-badge.svg\" alt=\"Open In Colab\"/></a>"
      ]
    },
    {
      "cell_type": "code",
      "metadata": {
        "colab": {
          "base_uri": "https://localhost:8080/"
        },
        "id": "WOxOJnjCX047",
        "outputId": "f70605ac-9abe-4541-c39f-0306e6e4261d"
      },
      "source": [
        "#Program 1\n",
        "class Circle():\n",
        "    def __init__(self, r):\n",
        "        self.radius = r\n",
        "\n",
        "    def area(self):\n",
        "        return self.radius**2*3.14\n",
        "    \n",
        "    def perimeter(self):\n",
        "        return 2*self.radius*3.14\n",
        "n=(float)(input(\"Enter the radius of the circle: \"))\n",
        "NewCircle = Circle(n)\n",
        "print(NewCircle.area())\n",
        "print(NewCircle.perimeter())"
      ],
      "execution_count": null,
      "outputs": [
        {
          "output_type": "stream",
          "name": "stdout",
          "text": [
            "Enter the radius of the circle: 9\n",
            "254.34\n",
            "56.52\n"
          ]
        }
      ]
    },
    {
      "cell_type": "code",
      "metadata": {
        "colab": {
          "base_uri": "https://localhost:8080/"
        },
        "id": "Ro5exu4nZ65z",
        "outputId": "de7521a2-ae23-418a-b567-2e143c570351"
      },
      "source": [
        "#Program 2\n",
        "class faculty: \n",
        "  count = 0\n",
        "  def __init__(self, name, id, branch, salary):\n",
        "    self.name=name\n",
        "    self.id=id\n",
        "    self.branch=branch\n",
        "    self.salary=salary\n",
        "    faculty.count=faculty.count+1\n",
        "\n",
        "  def display(self):\n",
        "    print(\"Name:\",self.name,\"\\nID:\",self.id,\"\\nBranch:\",self.branch,\"\\nSalary:\",self.salary)\n",
        "\n",
        "print(\"1st Faculty: \")\n",
        "name=input(\"Enter your name: \")\n",
        "id=input(\"Enter your ID: \")\n",
        "branch=input(\"Enter name of branch: \")\n",
        "salary=input(\"Enter name of salary: \")\n",
        "f1=faculty(name,id,branch,salary)\n",
        "\n",
        "print(\"2nd Faculty: \")\n",
        "name=input(\"Enter your name: \")\n",
        "id=input(\"Enter your ID: \")\n",
        "branch=input(\"Enter name of branch: \")\n",
        "salary=input(\"Enter name of salary: \")\n",
        "f2=faculty(name,id,branch,salary)\n",
        "\n",
        "print(\"3rd Faculty: \")\n",
        "name=input(\"Enter your name: \")\n",
        "id=input(\"Enter your ID: \")\n",
        "branch=input(\"Enter name of branch: \")\n",
        "salary=input(\"Enter name of salary: \")\n",
        "f3=faculty(name,id,branch,salary)\n",
        "\n",
        "print(\"4th Faculty: \")\n",
        "name=input(\"Enter your name: \")\n",
        "id=input(\"Enter your ID: \")\n",
        "branch=input(\"Enter name of branch: \")\n",
        "salary=input(\"Enter name of salary: \")\n",
        "f4=faculty(name,id,branch,salary)\n",
        "\n",
        "print(\"5th Faculty: \")\n",
        "name=input(\"Enter your name: \")\n",
        "id=input(\"Enter your ID: \")\n",
        "branch=input(\"Enter name of branch: \")\n",
        "salary=input(\"Enter name of salary: \")\n",
        "f5=faculty(name,id,branch,salary)\n",
        "print(\"\")\n",
        "f1.display()\n",
        "print(\"\")\n",
        "f2.display()\n",
        "print(\"\")\n",
        "f3.display()\n",
        "print(\"\")\n",
        "f4.display()\n",
        "print(\"\")\n",
        "f5.display()\n",
        "print(\"\")"
      ],
      "execution_count": null,
      "outputs": [
        {
          "output_type": "stream",
          "name": "stdout",
          "text": [
            "1st Faculty: \n",
            "Enter your name: Khushi\n",
            "Enter your ID: 20bcs071\n",
            "Enter name of branch: CSE\n",
            "Enter name of salary: 19887\n",
            "2nd Faculty: \n",
            "Enter your name: Kiran\n",
            "Enter your ID: 20bec067\n",
            "Enter name of branch: ECE\n",
            "Enter name of salary: 17688\n",
            "3rd Faculty: \n",
            "Enter your name: Sakshi\n",
            "Enter your ID: 20bcs092\n",
            "Enter name of branch: CSE\n",
            "Enter name of salary: 18776\n",
            "4th Faculty: \n",
            "Enter your name: Krishna\n",
            "Enter your ID: 20bcs073\n",
            "Enter name of branch: CSe\n",
            "Enter name of salary: 19887\n",
            "5th Faculty: \n",
            "Enter your name: Shilpa\n",
            "Enter your ID: 20bcs098\n",
            "Enter name of branch: CSe\n",
            "Enter name of salary: 18872\n",
            "\n",
            "Name: Khushi \n",
            "ID: 20bcs071 \n",
            "Branch: CSE \n",
            "Salary: 19887\n",
            "\n",
            "Name: Kiran \n",
            "ID: 20bec067 \n",
            "Branch: ECE \n",
            "Salary: 17688\n",
            "\n",
            "Name: Sakshi \n",
            "ID: 20bcs092 \n",
            "Branch: CSE \n",
            "Salary: 18776\n",
            "\n",
            "Name: Krishna \n",
            "ID: 20bcs073 \n",
            "Branch: CSe \n",
            "Salary: 19887\n",
            "\n",
            "Name: Shilpa \n",
            "ID: 20bcs098 \n",
            "Branch: CSe \n",
            "Salary: 18872\n",
            "\n"
          ]
        }
      ]
    },
    {
      "cell_type": "code",
      "metadata": {
        "colab": {
          "base_uri": "https://localhost:8080/"
        },
        "id": "TdxABrKHYuI0",
        "outputId": "a2e4b902-daf6-4d1c-ba17-f60be19af3d2"
      },
      "source": [
        "#Program 3\n",
        "class Bank_Account:\n",
        "    def __init__(self):\n",
        "        self.balance=0\n",
        "        print(\"Hello!!! Welcome to the Deposit & Withdrawal Machine\")\n",
        " \n",
        "    def deposit(self):\n",
        "        amount=float(input(\"Enter amount to be Deposited: \"))\n",
        "        self.balance += amount\n",
        "        print(\"\\n Amount Deposited:\",amount)\n",
        " \n",
        "    def withdraw(self):\n",
        "        amount = float(input(\"Enter amount to be Withdrawn: \"))\n",
        "        if self.balance>=amount:\n",
        "            self.balance-=amount\n",
        "            print(\"\\n You Withdrew:\", amount)\n",
        "        else:\n",
        "            print(\"\\n Insufficient balance  \")\n",
        " \n",
        "    def display(self):\n",
        "        print(\"\\n Net Available Balance=\",self.balance)\n",
        " \n",
        "s = Bank_Account()\n",
        "s.deposit()\n",
        "s.withdraw()\n",
        "s.display()"
      ],
      "execution_count": null,
      "outputs": [
        {
          "output_type": "stream",
          "name": "stdout",
          "text": [
            "Hello!!! Welcome to the Deposit & Withdrawal Machine\n",
            "Enter amount to be Deposited: 9027\n",
            "\n",
            " Amount Deposited: 9027.0\n",
            "Enter amount to be Withdrawn: 187\n",
            "\n",
            " You Withdrew: 187.0\n",
            "\n",
            " Net Available Balance= 8840.0\n"
          ]
        }
      ]
    },
    {
      "cell_type": "code",
      "metadata": {
        "colab": {
          "base_uri": "https://localhost:8080/"
        },
        "id": "I5a1NyFiaSMg",
        "outputId": "ec221e95-3a57-4d4f-b1b4-9b7d1a76d2d8"
      },
      "source": [
        "#Program 4\n",
        "class students:\n",
        "    def __init__(self, name, roll):\n",
        "        self.name = name\n",
        "        self.marks = []\n",
        "        self.roll = roll\n",
        "        \n",
        "    def enterMarks(self):\n",
        "        for i in range(3):\n",
        "            m = int(input(\"Enter the marks of %s in %d subject: \"%(self.name, i+1)))\n",
        "            self.marks.append(m)\n",
        "            \n",
        "    def display(self):\n",
        "        print (self.name,\" Roll No.: \", self.roll, \"got \", self.marks)\n",
        "             \n",
        "name = input(\"Enter the name of Student:\")\n",
        "roll = input(\"Enter the roll no. of the student: \")\n",
        "s1 = students(name, roll)\n",
        "s1.enterMarks()\n",
        "s1.display()"
      ],
      "execution_count": null,
      "outputs": [
        {
          "output_type": "stream",
          "name": "stdout",
          "text": [
            "Enter the name of Student:Khushi\n",
            "Enter the roll no. of the student: 20bcs071\n",
            "Enter the marks of Khushi in 1 subject: 76\n",
            "Enter the marks of Khushi in 2 subject: 98\n",
            "Enter the marks of Khushi in 3 subject: 67\n",
            "Khushi  Roll No.:  20bcs071 got  [76, 98, 67]\n"
          ]
        }
      ]
    },
    {
      "cell_type": "code",
      "metadata": {
        "colab": {
          "base_uri": "https://localhost:8080/"
        },
        "id": "AwB8fZBebxdg",
        "outputId": "38f43ce1-ecc3-4b41-eaa5-bcf38d51ce6d"
      },
      "source": [
        "#Program-5\n",
        "class hospital:\n",
        "  count = 0\n",
        "  def __init__(self,name,date,symptoms,ol,discharge):\n",
        "    self.name=name\n",
        "    self.date=date\n",
        "    self.symptoms=symptoms\n",
        "    self.ol=ol\n",
        "    self.discharge=discharge\n",
        "    hospital.count=hospital.count+1\n",
        "\n",
        "  def severity(self,ol):\n",
        "    global gw,op\n",
        "    gw=0\n",
        "    op=0\n",
        "    if (ol<90):\n",
        "      op=op+1\n",
        "      print(\"Patient requires oxygen support\")\n",
        "    else:\n",
        "      gw=gw+1\n",
        "\n",
        "  def displaynumber(self):\n",
        "    print(\"No. of patients requiring oxygen support:\",op)\n",
        "\n",
        "  def generalward(self):\n",
        "    print(\"No. of patients in general war for observation:\",gw)\n",
        "\n",
        "  def totalpatients(self):\n",
        "    print(\"Total no. of patients admitted:\",hospital.count)\n",
        "\n",
        "print(\"Patient 1: \")\n",
        "name=input(\"Enter the name of patient: \")\n",
        "date=input(\"Enter the date of admission in the format DD/MM/YYYY: \")\n",
        "symptoms=input(\"Enter the symptoms: \")\n",
        "ol=float(input(\"Enter the oxygen level of the patient: \"))\n",
        "discharge=input(\"Enter the date of discharge in the format DD/MM/YYYY: \")\n",
        "p1=hospital(name,date,symptoms,ol,discharge)\n",
        "p1.severity(ol)\n",
        "p1.displaynumber()\n",
        "p1.generalward()\n",
        "p1.totalpatients()\n",
        "print(\"Patient 2: \")\n",
        "name=input(\"Enter the name of patient: \")\n",
        "date=input(\"Enter the date of admission in the format DD/MM/YYYY: \")\n",
        "symptoms=input(\"Enter the symptoms: \")\n",
        "ol=float(input(\"Enter the oxygen level of the patient: \"))\n",
        "discharge=input(\"Enter the date of discharge in the format DD/MM/YYYY: \")\n",
        "p2=hospital(name,date,symptoms,ol,discharge)\n",
        "p2.severity(ol)\n",
        "p2.displaynumber()\n",
        "p2.generalward()\n",
        "p2.totalpatients()\n",
        "print(\"Patient 3: \")\n",
        "name=input(\"Enter the name of patient: \")\n",
        "date=input(\"Enter the date of admission in the format DD/MM/YYYY: \")\n",
        "symptoms=input(\"Enter the symptoms: \")\n",
        "ol=float(input(\"Enter the oxygen level of the patient: \"))\n",
        "discharge=input(\"Enter the date of discharge in the format DD/MM/YYYY: \")\n",
        "p3=hospital(name,date,symptoms,ol,discharge)\n",
        "p3.severity(ol)\n",
        "p3.displaynumber()\n",
        "p3.generalward()\n",
        "p3.totalpatients()"
      ],
      "execution_count": null,
      "outputs": [
        {
          "output_type": "stream",
          "name": "stdout",
          "text": [
            "Patient 1: \n",
            "Enter the name of patient: Khushi\n",
            "Enter the date of admission in the format DD/MM/YYYY: 14/08/2021\n",
            "Enter the symptoms: Fever, Breathlessness\n",
            "Enter the oxygen level of the patient: 89\n",
            "Enter the date of discharge in the format DD/MM/YYYY: 21/08/2021\n",
            "Patient requires oxygen support\n",
            "No. of patients requiring oxygen support: 1\n",
            "No. of patients in general war for observation: 0\n",
            "Total no. of patients admitted: 1\n",
            "Patient 2: \n",
            "Enter the name of patient: Sam\n",
            "Enter the date of admission in the format DD/MM/YYYY: 15/08/2021\n",
            "Enter the symptoms: Fever\n",
            "Enter the oxygen level of the patient: 98\n",
            "Enter the date of discharge in the format DD/MM/YYYY: 24/08/2021\n",
            "No. of patients requiring oxygen support: 0\n",
            "No. of patients in general war for observation: 1\n",
            "Total no. of patients admitted: 2\n",
            "Patient 3: \n",
            "Enter the name of patient: Candy\n",
            "Enter the date of admission in the format DD/MM/YYYY: 25/08/2021\n",
            "Enter the symptoms:  \n",
            "Enter the oxygen level of the patient: 97\n",
            "Enter the date of discharge in the format DD/MM/YYYY: 3/09/2021\n",
            "No. of patients requiring oxygen support: 0\n",
            "No. of patients in general war for observation: 1\n",
            "Total no. of patients admitted: 3\n"
          ]
        }
      ]
    },
    {
      "cell_type": "code",
      "metadata": {
        "colab": {
          "base_uri": "https://localhost:8080/"
        },
        "id": "qpt4TcDmimvL",
        "outputId": "5f031baf-8590-46ef-de48-5aa521ce1560"
      },
      "source": [
        "#Progarm-6\n",
        "class Time:\n",
        "    def Default(self):\n",
        "        self.hours = 0\n",
        "        self.minutes = 0\n",
        "        self.seconds = 0\n",
        "\n",
        "    def Value(self, hours, minutes, seconds):\n",
        "        if seconds > 59:\n",
        "            tempMinutes = seconds // 60\n",
        "            seconds = seconds % 60\n",
        "            self.seconds = seconds\n",
        "            self.minutes = tempMinutes + minutes\n",
        "        else:\n",
        "            self.seconds = seconds\n",
        "            self.minutes = minutes\n",
        "\n",
        "        if self.minutes > 59:\n",
        "            tempHours = self.minutes // 60\n",
        "            self.minutes = self.minutes % 60\n",
        "            self.hours = tempHours + hours\n",
        "        else:\n",
        "            self.minutes = minutes\n",
        "            self.hours = hours\n",
        "\n",
        "    def display(self):\n",
        "        print(f\"Time : {self.hours}::{self.minutes}::{self.seconds}\")\n",
        "\n",
        "T1 = Time()\n",
        "T1.Default()\n",
        "T1.display()\n",
        "T1.Value(20, 59, 59)\n",
        "T1.display()\n",
        "T1.Value(20, 140, 250)\n",
        "T1.display()\n",
        "T1.Value(20, 140, 50)\n",
        "T1.display()\n"
      ],
      "execution_count": null,
      "outputs": [
        {
          "output_type": "stream",
          "name": "stdout",
          "text": [
            "Time : 0::0::0\n",
            "Time : 20::59::59\n",
            "Time : 22::24::10\n",
            "Time : 22::20::50\n"
          ]
        }
      ]
    },
    {
      "cell_type": "code",
      "metadata": {
        "colab": {
          "base_uri": "https://localhost:8080/"
        },
        "id": "G-Ry3AK0jj76",
        "outputId": "3abf5aa7-d96e-433e-8847-27b3e6476e75"
      },
      "source": [
        "#Program-7\n",
        "class students:\n",
        "    def __init__(self):\n",
        "        pass\n",
        "    def st1(self,name1,age1,roll1):# Function to contain first student details\n",
        "        self.name1=name1\n",
        "        self.age1=age1\n",
        "        self.roll1=roll1\n",
        "        print(\"name 1st student =\",self.name1,\"\\n\",\"age 1st student =\",self.age1,\"\\n\",\n",
        "              \"roll no 1st student =\",self.roll1)\n",
        "        print(\" \")\n",
        "         \n",
        "    def st2(self,name2,age2,roll2):# Function to contain second student details\n",
        "        self.name2=name2\n",
        "        self.age2=age2\n",
        "        self.roll2=roll2\n",
        "        print(\"name 2nd student =\",self.name2,\"\\n\",\"age 2nd student =\",self.age2,\"\\n\",\n",
        "              \"roll no 2nd student =\",self.roll2)\n",
        "        print(\" \")\n",
        "         \n",
        "class comp(students): # using INHERITENCE here\n",
        "    def __init__(self):\n",
        "        pass\n",
        "    def compare(self):\n",
        "        if (self.age1==self.age2):#Function to compare age\n",
        "            print(\"Both student have equal age:\")\n",
        "        else:\n",
        "            print(\"Ages of both student is not equal:\")\n",
        "name1=input(\"enter name of 1st student:\")\n",
        "age1=int(input(\"enter age of 1st student:\"))\n",
        "roll1=input(\"enter roll_no of 1st student:\")\n",
        "name2=input(\"enter name of 2nd student:\")\n",
        "age2=int(input(\"enter age of 2nd student:\"))\n",
        "roll2=input(\"enter roll_no of 2nd student:\")\n",
        "st=comp()\n",
        "st.st1(name1, age1, roll1)\n",
        "st.st2(name2, age2, roll2)\n",
        "st.compare()"
      ],
      "execution_count": null,
      "outputs": [
        {
          "output_type": "stream",
          "name": "stdout",
          "text": [
            "enter name of 1st student:Rahul\n",
            "enter age of 1st student:21\n",
            "enter roll_no of 1st student:33\n",
            "enter name of 2nd student:Rohit\n",
            "enter age of 2nd student:22\n",
            "enter roll_no of 2nd student:74\n",
            "name 1st student = Rahul \n",
            " age 1st student = 21 \n",
            " roll no 1st student = 33\n",
            " \n",
            "name 2nd student = Rohit \n",
            " age 2nd student = 22 \n",
            " roll no 2nd student = 74\n",
            " \n",
            "Ages of both student is not equal:\n"
          ]
        }
      ]
    },
    {
      "cell_type": "code",
      "metadata": {
        "colab": {
          "base_uri": "https://localhost:8080/"
        },
        "id": "yJLqH2iGk0GM",
        "outputId": "038be575-e796-4fb6-803b-3589cd823e1c"
      },
      "source": [
        "#Program-8\n",
        "class student:\n",
        "    institute=input(\"enter the name of institute:\") # defining class variable\n",
        "    sem=input(\"enter the semester:\") # defining class variable\n",
        "    def __init__(self,name_list,usn_list):\n",
        "        self.name_list=name_list # defining instance variable\n",
        "        self.usn_list=usn_list   # defining instance variable\n",
        "name_list=[\"Dhaisht\",\"Ruchi\",\"Rohit\",\"Sahul\",\"Harry\",\"Ken\",\"Mary\",\"Punit\",\"Mikel\",\"Jopes\"]\n",
        "usn_list=[\"20bcs040\",\"20bcs041\",\"20bcs042\",\"20bcs043\",\"20bcs044\",\"20bcs045\",\"20bcs046\",\n",
        "          \"20bcs047\",\"20bcs048\",\"20bcs049\"]\n",
        "st=student(name_list, usn_list)\n",
        "print(\"Student details:\\n\")\n",
        "for i in range(len(name_list)):\n",
        "    print(\"Student Name =>\",st.name_list[i],\"\\n\",\"Student USN =>\",st.usn_list[i])#calling instance variable by object (like st.name_list,st.usn_list):\n",
        "    print(\"Institute =>\",student.institute,\"\\n\",\"Semester =>\",student.sem)#calling class variable by class name (like student.instittute, student.sem ), \n",
        "    # class variable same for all student of this class: \n",
        "    print(\" \")"
      ],
      "execution_count": null,
      "outputs": [
        {
          "output_type": "stream",
          "name": "stdout",
          "text": [
            "enter the name of institute:IIIT Dharwad\n",
            "enter the semester:3\n",
            "Student details:\n",
            "\n",
            "Student Name => Dhaisht \n",
            " Student USN => 20bcs040\n",
            "Institute => IIIT Dharwad \n",
            " Semester => 3\n",
            " \n",
            "Student Name => Ruchi \n",
            " Student USN => 20bcs041\n",
            "Institute => IIIT Dharwad \n",
            " Semester => 3\n",
            " \n",
            "Student Name => Rohit \n",
            " Student USN => 20bcs042\n",
            "Institute => IIIT Dharwad \n",
            " Semester => 3\n",
            " \n",
            "Student Name => Sahul \n",
            " Student USN => 20bcs043\n",
            "Institute => IIIT Dharwad \n",
            " Semester => 3\n",
            " \n",
            "Student Name => Harry \n",
            " Student USN => 20bcs044\n",
            "Institute => IIIT Dharwad \n",
            " Semester => 3\n",
            " \n",
            "Student Name => Ken \n",
            " Student USN => 20bcs045\n",
            "Institute => IIIT Dharwad \n",
            " Semester => 3\n",
            " \n",
            "Student Name => Mary \n",
            " Student USN => 20bcs046\n",
            "Institute => IIIT Dharwad \n",
            " Semester => 3\n",
            " \n",
            "Student Name => Punit \n",
            " Student USN => 20bcs047\n",
            "Institute => IIIT Dharwad \n",
            " Semester => 3\n",
            " \n",
            "Student Name => Mikel \n",
            " Student USN => 20bcs048\n",
            "Institute => IIIT Dharwad \n",
            " Semester => 3\n",
            " \n",
            "Student Name => Jopes \n",
            " Student USN => 20bcs049\n",
            "Institute => IIIT Dharwad \n",
            " Semester => 3\n",
            " \n"
          ]
        }
      ]
    },
    {
      "cell_type": "code",
      "metadata": {
        "colab": {
          "base_uri": "https://localhost:8080/"
        },
        "id": "VyzCPA-nvlap",
        "outputId": "7f21668a-3823-431f-e030-583913b8ecb5"
      },
      "source": [
        "#Program-9\n",
        "class student: \n",
        "  def __init__(self):\n",
        "    self.institute=\"IITDWD\" # Student details\n",
        "    self.name = \"Dhanisht Kumar\"\n",
        "    self.roll=\"20bcs040\"\n",
        "    self.sem=\"ODD (3rd)\"\n",
        "    self.devise = self.laptop() \n",
        "    \n",
        "  def show(self): # function to print student details\n",
        "    print(\"Institute:\",self.institute,\"\\nName:\", self.name,\"\\nRoll_No:\",\n",
        "          self.roll,\"\\nSemester:\",self.sem,\"\\n\") \n",
        "    \n",
        "  class laptop: \n",
        "     def __init__(self): # Student Laptop detail\n",
        "        self.colour=\"Mate Black\"\n",
        "        self.cpu = \"intel(R)-core(TM)_i7-cpu\"\n",
        "        self.ram = \"4GB\"\n",
        "        self.hard_disc=\"8GB\"\n",
        "        self.price=\"INR 36000\"\n",
        "     def display(self): # function to print Laptop detail\n",
        "        print(\"Laptop Colour:\",self.colour,\"\\nCpu:\", self.cpu,\"\\nRam:\", self.ram,\"\\nHard_Disc_Drive:\",self.hard_disc,\n",
        "              \"\\nPrice:\",self.price)  \n",
        "print(\"STUDENT DETAIL BELOW:\\n\") \n",
        "stu = student() # stu -> object of student class\n",
        "stu.show() \n",
        "stu_devise = stu.devise # calling inner function\n",
        "print(\"STUDENTS DEVISE DETAIL:\\n\")\n",
        "stu_devise.display()"
      ],
      "execution_count": null,
      "outputs": [
        {
          "output_type": "stream",
          "name": "stdout",
          "text": [
            "STUDENT DETAIL BELOW:\n",
            "\n",
            "Institute: IITDWD \n",
            "Name: Dhanisht Kumar \n",
            "Roll_No: 20bcs040 \n",
            "Semester: ODD (3rd) \n",
            "\n",
            "STUDENTS DEVISE DETAIL:\n",
            "\n",
            "Laptop Colour: Mate Black \n",
            "Cpu: intel(R)-core(TM)_i7-cpu \n",
            "Ram: 4GB \n",
            "Hard_Disc_Drive: 8GB \n",
            "Price: INR 36000\n"
          ]
        }
      ]
    }
  ]
}