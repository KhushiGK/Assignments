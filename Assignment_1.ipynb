{
  "nbformat": 4,
  "nbformat_minor": 0,
  "metadata": {
    "colab": {
      "name": "Assignment-1.ipynb",
      "provenance": [],
      "collapsed_sections": []
    },
    "kernelspec": {
      "name": "python3",
      "display_name": "Python 3"
    },
    "language_info": {
      "name": "python"
    }
  },
  "cells": [
    {
      "cell_type": "code",
      "metadata": {
        "colab": {
          "base_uri": "https://localhost:8080/"
        },
        "id": "zrJNpGi8p8PJ",
        "outputId": "e729ce65-c4d9-4953-c6a8-8745169231fb"
      },
      "source": [
        "#leap year\n",
        "def LeapYear(year):\n",
        "  if(year%4==0):\n",
        "    print(\"The year is leap\")\n",
        "  else:\n",
        "    print(\"The year is not leap\")\n",
        "def LeapYear1(year):\n",
        "  if(year%100==0):\n",
        "    print(\"The year is not leap\")\n",
        "  else:\n",
        "    print(\"The year is leap\")\n",
        "def LeapYear2(year):\n",
        "  if(year%400==0):\n",
        "    print(\"The year is leap\")\n",
        "  else:\n",
        "    print(\"The year is not leap\")\n",
        "year=int(input(\"Enter the year: \"))\n",
        "LeapYear(year)\n",
        "LeapYear1(year)\n",
        "LeapYear2(year)"
      ],
      "execution_count": null,
      "outputs": [
        {
          "output_type": "stream",
          "name": "stdout",
          "text": [
            "Enter the year: 2021\n",
            "The year is not leap\n",
            "The year is leap\n",
            "The year is not leap\n"
          ]
        }
      ]
    },
    {
      "cell_type": "code",
      "metadata": {
        "colab": {
          "base_uri": "https://localhost:8080/"
        },
        "id": "SE3vyaegqgRK",
        "outputId": "d513d2db-7fd9-4479-9f37-c5ce0833ac36"
      },
      "source": [
        "#PROBLEM-II\n",
        "n=int(input(\"Enter a number: \"))\n",
        "if(n%2!=0):\n",
        "  print(\"Weird\")\n",
        "elif(n%2==0 and n>=2 and n<=5):\n",
        "  print(\"Not Weird\")\n",
        "elif(n%2==0 and n>=6 and n<=20):\n",
        "  print(\"Weird\")\n",
        "else:\n",
        "  print(\"Not weird\")"
      ],
      "execution_count": null,
      "outputs": [
        {
          "output_type": "stream",
          "name": "stdout",
          "text": [
            "Enter a number: 55\n",
            "Weird\n"
          ]
        }
      ]
    },
    {
      "cell_type": "code",
      "metadata": {
        "id": "gwwa-pMZOsqp",
        "colab": {
          "base_uri": "https://localhost:8080/"
        },
        "outputId": "6c7cb910-8b53-4960-a0fd-be0ef4e4ad44"
      },
      "source": [
        "#PROBLEM-III\n",
        "\n",
        "def fashionably_late(arrivals):\n",
        "    n=len(arrivals)\n",
        "    x=(int)(n/2)\n",
        "    while x<n-1:\n",
        "        print(arrivals[x])\n",
        "        x=x+1\n",
        "arrivals = ['Hardik','Rahul','Virat','Rishabh','Mahi','Rohit','Rahane']\n",
        "fashionably_late(arrivals)"
      ],
      "execution_count": 3,
      "outputs": [
        {
          "output_type": "stream",
          "name": "stdout",
          "text": [
            "Rishabh\n",
            "Mahi\n",
            "Rohit\n"
          ]
        }
      ]
    },
    {
      "cell_type": "code",
      "metadata": {
        "id": "ZqPkGU6awwpQ",
        "colab": {
          "base_uri": "https://localhost:8080/"
        },
        "outputId": "5bc98e98-d87d-4df4-f2f5-3c68b2633b8b"
      },
      "source": [
        "#PROBLEM-IV\n",
        "def word_search(doc_list, keyword):\n",
        "        l=[]\n",
        "        for i, doc in enumerate(doc_list):\n",
        "            spliting = doc.split()\n",
        "            for split in spliting:\n",
        "                normalized = split.rstrip('.,').lower()\n",
        "            if keyword.lower() in normalized:\n",
        "                l.append(i)\n",
        "        return i\n",
        "doc_list = [\"The Learn Python Challenge Rohit.\", \"They bought a car\", \"bangalore\"]\n",
        "word_search(doc_list, 'Learn')\n",
        "print(doc_list[i])\n"
      ],
      "execution_count": 17,
      "outputs": [
        {
          "output_type": "stream",
          "name": "stdout",
          "text": [
            "bangalore\n"
          ]
        }
      ]
    },
    {
      "cell_type": "code",
      "metadata": {
        "colab": {
          "base_uri": "https://localhost:8080/"
        },
        "id": "BltsJ-FGxFVj",
        "outputId": "06709923-d478-409d-aba8-54fcc1bff3e4"
      },
      "source": [
        "#PROBLEM-V\n",
        "def GrossPay(bp):\n",
        "  global gp\n",
        "  da=(float)(40/100)*bp\n",
        "  hra=(float)(20/100)*bp\n",
        "  gp=bp+da+hra\n",
        "  return gp\n",
        "bp=float(input(\"Enter your Basic Pay: \"))\n",
        "GrossPay(bp)\n",
        "print(\"The Gross Pay is \",gp)\n",
        "\n"
      ],
      "execution_count": null,
      "outputs": [
        {
          "output_type": "stream",
          "name": "stdout",
          "text": [
            "Enter your Basic Pay: 5000\n",
            "The Gross Pay is  8000.0\n"
          ]
        }
      ]
    }
  ]
}