{
  "nbformat": 4,
  "nbformat_minor": 0,
  "metadata": {
    "colab": {
      "name": "Assignment-3.ipynb",
      "provenance": [],
      "authorship_tag": "ABX9TyNtoke8GV9Gl3FrN0zsc1yq",
      "include_colab_link": true
    },
    "kernelspec": {
      "name": "python3",
      "display_name": "Python 3"
    },
    "language_info": {
      "name": "python"
    }
  },
  "cells": [
    {
      "cell_type": "markdown",
      "metadata": {
        "id": "view-in-github",
        "colab_type": "text"
      },
      "source": [
        "<a href=\"https://colab.research.google.com/github/KhushiGK/Assignment-3/blob/main/Assignment_3.ipynb\" target=\"_parent\"><img src=\"https://colab.research.google.com/assets/colab-badge.svg\" alt=\"Open In Colab\"/></a>"
      ]
    },
    {
      "cell_type": "code",
      "metadata": {
        "colab": {
          "base_uri": "https://localhost:8080/"
        },
        "id": "CPfE4p7Pasmr",
        "outputId": "1287849a-61ae-4401-9ec3-a3e46f4ce9d3"
      },
      "source": [
        "class student: # base class  \n",
        "    def __init__(self):\n",
        "        pass\n",
        "    def display_detail(self):\n",
        "        self.name=name\n",
        "        self.reg_no=reg_no\n",
        "        self.age=age\n",
        "        self.gender=gender\n",
        "        self.branch=branch\n",
        "        self.sem=sem\n",
        "        print(\"Name :\",self.name,\"\\nReg_NO :\",self.reg_no,\"\\nAge :\",self.age,\n",
        "              \"\\nGender :\",self.gender,\"\\nBranch :\",self.branch,\"\\nSem :\",self.sem)\n",
        "class student_res_info(student):# derive class\n",
        "    def __init__(self):\n",
        "        self.total_marks=total_marks\n",
        "        self.percent=percent\n",
        "        self.grade=grade\n",
        "    def display_result(self):\n",
        "        print(\"Total marks of student :\",self.total_marks,\"\\npercentage :\",self.percent,\n",
        "              \"\\nGrade that studnt got :\",self.grade)\n",
        "name=input(\"enter name of student :\")\n",
        "reg_no=input(\"enter the Reg_NO :\")\n",
        "age=int(input(\"enter AGE :\"))\n",
        "gender=input(\"enter Gender :\")\n",
        "branch=input(\"enter the Branch :\")\n",
        "sem=input(\"entre Current Semester :\")\n",
        "total_marks=int(input(\"enter the Total marks of student :\"))\n",
        "percent=float(input(\"entre the percentage :\"))\n",
        "grade=input(\"entre the Grade that student got :\")\n",
        "print(\"\\n\")\n",
        "s= student_res_info() # Calling methods from derive class\n",
        "s.display_detail()\n",
        "s.display_result()"
      ],
      "execution_count": 1,
      "outputs": [
        {
          "output_type": "stream",
          "name": "stdout",
          "text": [
            "enter name of student :Khushi\n",
            "enter the Reg_NO :20bcs071\n",
            "enter AGE :19\n",
            "enter Gender :Female\n",
            "enter the Branch :CSE\n",
            "entre Current Semester :3\n",
            "enter the Total marks of student :90\n",
            "entre the percentage :68\n",
            "entre the Grade that student got :B\n",
            "\n",
            "\n",
            "Name : Khushi \n",
            "Reg_NO : 20bcs071 \n",
            "Age : 19 \n",
            "Gender : Female \n",
            "Branch : CSE \n",
            "Sem : 3\n",
            "Total marks of student : 90 \n",
            "percentage : 68.0 \n",
            "Grade that studnt got : B\n"
          ]
        }
      ]
    },
    {
      "cell_type": "code",
      "metadata": {
        "colab": {
          "base_uri": "https://localhost:8080/"
        },
        "id": "slXTpvqZa12a",
        "outputId": "ec8f7bc0-5bb4-4692-eaa6-b63aef34dc0c"
      },
      "source": [
        "# Problem -2\n",
        "class cms:\n",
        "    def __init__(self):\n",
        "        pass\n",
        "    def pdf_doc(self):\n",
        "        self.creator1=creator1 # creator detail, who created pdf document\n",
        "        self.dis1=dis1 # discription\n",
        "        self.file_size=file_size # file size\n",
        "        print(\"PDF creator details :\",self.creator1)\n",
        "        print(\"discreption :\",self.dis1)\n",
        "        print(\"file Size :\",self.file_size)\n",
        "    def picture_doc(self):\n",
        "        self.creator2=creator2 # picture doc creator detail\n",
        "        self.dis2=dis2 # discreption\n",
        "        self.image_dimension=image_dimension # image dimension\n",
        "        self.file_size=file_size # file size( will taken by user)\n",
        "        print(\"\\n\")\n",
        "        print(\"pic doc creator :\",self.creator2)\n",
        "        print(\"discreption 2 :\",self.dis2)\n",
        "        print(\"file size :\",self.file_size)\n",
        "        print(\"image dimension :\",self.image_dimension)\n",
        "class cms_feature(cms):# derive class , inheriting above base class:\n",
        "    def __init__(self):\n",
        "        pass\n",
        "    def check_size(self,threshold): # function to check file size\n",
        "        # threshold value( will taken by user)\n",
        "        self.threshold=threshold\n",
        "        print(\"\\n\")\n",
        "        if (self.file_size > self.threshold):\n",
        "            print(\"its beyond the threshold:\")\n",
        "        else:\n",
        "            print(\"it isn't the beyond of threshold value:\")\n",
        "        print(\"\\n\")\n",
        "    def display(self):\n",
        "        print(\"entire detail fo creator :\\n\")\n",
        "        print(\"creator 1 :\",self.creator1)\n",
        "        print(\"discreption 1 :\",self.dis1)\n",
        "        print(\"file size :\",self.file_size)\n",
        "        print(\"creator 2 :\",self.creator2)\n",
        "        print(\"discreption 2: \",self.dis2)\n",
        "        print(\"file sixe :\",self.file_size)\n",
        "        print(\"image dimension : \",self.image_dimension)\n",
        "    def check_pic_dimension(self,certain_dimension):# function to checkk pic dimension\n",
        "        self.certain_dimension=certain_dimension\n",
        "        print(\"\\n\")\n",
        "        if (self.image_dimension > self.certain_dimension):\n",
        "            print(\"image dimension is too large:\")\n",
        "        else:\n",
        "            print(\"image dimension is ok:\")\n",
        "creator1=\"Name -> Raushan Mehta, Age -> 45, address -> Pilakad PIN-463332\"\n",
        "creator2=\"Name -> Ketan Mehta, Age -> 53, address -> mibrad PIN-3433001\"\n",
        "dis1=\"its a pdf document\"\n",
        "dis2=\"its a pictures document\"\n",
        "file_size=int(input(\"enter the size of file :\"))\n",
        "threshold=int(input(\"emter the threshold value :\"))\n",
        "image_dimension=int(input(\"enter the image dimension :\"))\n",
        "certain_dimension=int(input(\"enter the certain dimension :\"))\n",
        "print(\"All details below:\")\n",
        "print(\"\\n\")\n",
        "f=cms_feature() # calling all methods from derive class\n",
        "f.pdf_doc()\n",
        "f.picture_doc()\n",
        "f.check_size(threshold)\n",
        "f.display()\n",
        "f.check_pic_dimension(certain_dimension)"
      ],
      "execution_count": 3,
      "outputs": [
        {
          "output_type": "stream",
          "name": "stdout",
          "text": [
            "enter the size of file :9\n",
            "emter the threshold value :7\n",
            "enter the image dimension :720\n",
            "enter the certain dimension :360\n",
            "All details below:\n",
            "\n",
            "\n",
            "PDF creator details : Name -> Raushan Mehta, Age -> 45, address -> Pilakad PIN-463332\n",
            "discreption : its a pdf document\n",
            "file Size : 9\n",
            "\n",
            "\n",
            "pic doc creator : Name -> Ketan Mehta, Age -> 53, address -> mibrad PIN-3433001\n",
            "discreption 2 : its a pictures document\n",
            "file size : 9\n",
            "image dimension : 720\n",
            "\n",
            "\n",
            "its beyond the threshold:\n",
            "\n",
            "\n",
            "entire detail fo creator :\n",
            "\n",
            "creator 1 : Name -> Raushan Mehta, Age -> 45, address -> Pilakad PIN-463332\n",
            "discreption 1 : its a pdf document\n",
            "file size : 9\n",
            "creator 2 : Name -> Ketan Mehta, Age -> 53, address -> mibrad PIN-3433001\n",
            "discreption 2:  its a pictures document\n",
            "file sixe : 9\n",
            "image dimension :  720\n",
            "\n",
            "\n",
            "image dimension is too large:\n"
          ]
        }
      ]
    },
    {
      "cell_type": "code",
      "metadata": {
        "colab": {
          "base_uri": "https://localhost:8080/"
        },
        "id": "rYOjslsLa9iU",
        "outputId": "efaa160b-b990-46e4-f7c9-12d1963a183f"
      },
      "source": [
        "# Problem-3\n",
        "class vical:\n",
        "    def __init__(self): # base class\n",
        "        self.name=name\n",
        "        self.milage=milage\n",
        "        self.capacity=capacity\n",
        "    def bus_detail(self):\n",
        "        self.name=name\n",
        "        self.milage=milage\n",
        "        self.capacity=capacity\n",
        "        print(\"bus_name :\",self.name,\"\\nMilage :\",self.milage,\"\\nSeat capacity :\",\n",
        "              self.capacity)\n",
        "    def bus_fare(self,capacity):\n",
        "        self.fare_charge=capacity*100\n",
        "        print(\"fare =\",self.fare_charge)\n",
        "\n",
        "class bus_child(vical):# inheriting vehical class\n",
        "    def __init__(self):\n",
        "        pass\n",
        "    def bus(self):\n",
        "        self.final_amount=self.fare_charge + (self.fare_charge)*(10/100)\n",
        "        print(\"Final fare Amount =\",self.final_amount)\n",
        "name=\"STAR BUS\"\n",
        "milage=\"16kmpl\"\n",
        "capacity=50\n",
        "b=bus_child() # Calling all three method by derive class\n",
        "b.bus_detail()\n",
        "b.bus_fare(capacity)\n",
        "b.bus()"
      ],
      "execution_count": 4,
      "outputs": [
        {
          "output_type": "stream",
          "name": "stdout",
          "text": [
            "bus_name : STAR BUS \n",
            "Milage : 16kmpl \n",
            "Seat capacity : 50\n",
            "fare = 5000\n",
            "Final fare Amount = 5500.0\n"
          ]
        }
      ]
    }
  ]
}